{
  "cells": [
    {
      "cell_type": "markdown",
      "id": "50d19afb",
      "metadata": {
        "id": "50d19afb"
      },
      "source": [
        "# Lecture 3 - Functions, Dictionaries, Arguments, and Scopes\n",
        "### University of California, Berkeley - Fall 2022"
      ]
    },
    {
      "cell_type": "markdown",
      "id": "feac2a3e",
      "metadata": {
        "id": "feac2a3e"
      },
      "source": [
        "## What we have learned?\n",
        "\n",
        "- Python\n",
        "- Variables\n",
        "- Operators\n",
        "- strings\n",
        "- lists\n",
        "- Flow control: conditions (if,elif,else) and loops (for,while)"
      ]
    },
    {
      "cell_type": "markdown",
      "id": "c1e1718f",
      "metadata": {
        "id": "c1e1718f"
      },
      "source": [
        "## Dictionaries\n",
        "### Reminder - Lists\n",
        "Lists are a data structure used to store collections of elements (int, float, str etc.) in an __ordered__ way."
      ]
    },
    {
      "cell_type": "code",
      "execution_count": null,
      "id": "23404159",
      "metadata": {
        "jupyter": {
          "outputs_hidden": false
        },
        "id": "23404159"
      },
      "outputs": [],
      "source": [
        "organisms = ['Pan troglodytes', 'Gallus gallus', 'Xenopus laevis', 'Vipera palaestinae']"
      ]
    },
    {
      "cell_type": "markdown",
      "id": "bc2b8d8b",
      "metadata": {
        "id": "bc2b8d8b"
      },
      "source": [
        "We access elements of lists by using their _index_:"
      ]
    },
    {
      "cell_type": "code",
      "execution_count": null,
      "id": "25454f3a",
      "metadata": {
        "jupyter": {
          "outputs_hidden": false
        },
        "colab": {
          "base_uri": "https://localhost:8080/"
        },
        "id": "25454f3a",
        "outputId": "3c0a6d95-29c8-44eb-ae91-0e53f5050438"
      },
      "outputs": [
        {
          "output_type": "stream",
          "name": "stdout",
          "text": [
            "Pan troglodytes\n",
            "Xenopus laevis\n"
          ]
        }
      ],
      "source": [
        "print(organisms[0])\n",
        "print(organisms[2])"
      ]
    },
    {
      "cell_type": "markdown",
      "id": "52453168",
      "metadata": {
        "id": "52453168"
      },
      "source": [
        "__Dictionaries__ are another data structure used to store collections of elements, only this time they can be accessed through a _key_. Keys can be anything - a string, an integer, float and so on. Each key is connected to a _value_."
      ]
    },
    {
      "cell_type": "markdown",
      "id": "0d789dda",
      "metadata": {
        "id": "0d789dda"
      },
      "source": [
        "### Defining dictionaries:"
      ]
    },
    {
      "cell_type": "code",
      "execution_count": null,
      "id": "eef54d51",
      "metadata": {
        "jupyter": {
          "outputs_hidden": false
        },
        "id": "eef54d51"
      },
      "outputs": [],
      "source": [
        "organisms_classes = {'Pan troglodytes': 'Mammalia', 'Gallus gallus': 'Aves', 'Xenopus laevis': 'Amphibia', 'Vipera palaestinae': 'Reptilia'}"
      ]
    },
    {
      "cell_type": "code",
      "source": [
        "organisms_classes"
      ],
      "metadata": {
        "colab": {
          "base_uri": "https://localhost:8080/"
        },
        "id": "MVqEEyEguXWd",
        "outputId": "2d553893-ffce-4186-c0c0-d516ddf3c1ad"
      },
      "id": "MVqEEyEguXWd",
      "execution_count": null,
      "outputs": [
        {
          "output_type": "execute_result",
          "data": {
            "text/plain": [
              "{'Pan troglodytes': 'Mammalia',\n",
              " 'Gallus gallus': 'Aves',\n",
              " 'Xenopus laevis': 'Amphibia',\n",
              " 'Vipera palaestinae': 'Reptilia'}"
            ]
          },
          "metadata": {},
          "execution_count": 38
        }
      ]
    },
    {
      "cell_type": "markdown",
      "id": "54183a32",
      "metadata": {
        "id": "54183a32"
      },
      "source": [
        "In this dictionary, the _keys_ are the organisms and the _values_ are the class of each organism. Both are of type `str`."
      ]
    },
    {
      "cell_type": "markdown",
      "id": "1fc3596b",
      "metadata": {
        "id": "1fc3596b"
      },
      "source": [
        "Another example would be a dictionary representing the number of observations of various species:"
      ]
    },
    {
      "cell_type": "code",
      "execution_count": null,
      "id": "92ccb7a6",
      "metadata": {
        "jupyter": {
          "outputs_hidden": false
        },
        "id": "92ccb7a6"
      },
      "outputs": [],
      "source": [
        "observations = {'Equus zebra': 143,\n",
        "                'Hippopotamus amphibius': 27,\n",
        "                'Giraffa camelopardalis': 71,\n",
        "                'Panthera leo': 112}"
      ]
    },
    {
      "cell_type": "markdown",
      "id": "44ac85a1",
      "metadata": {
        "id": "44ac85a1"
      },
      "source": [
        "Here, the keys are of type `str` and the values are of type `int`. Any other combination could be used.\n",
        "![safari](https://encrypted-tbn3.gstatic.com/images?q=tbn:ANd9GcTL-7qevLJk3T6miuV7zzlxGqH0WFyEv8ejFqw7444QMEElRvkblg)"
      ]
    },
    {
      "cell_type": "markdown",
      "id": "0b3416c2",
      "metadata": {
        "id": "0b3416c2"
      },
      "source": [
        "### Accessing dictionary records\n",
        "Accessing a dictionary record is similar to what we did with lists, only this time we'll call a _key_ instead of an _index_:"
      ]
    },
    {
      "cell_type": "code",
      "execution_count": null,
      "id": "618adaa2",
      "metadata": {
        "jupyter": {
          "outputs_hidden": false
        },
        "colab": {
          "base_uri": "https://localhost:8080/"
        },
        "id": "618adaa2",
        "outputId": "f0613f72-a34d-4f55-ac7e-703781baada1"
      },
      "outputs": [
        {
          "output_type": "stream",
          "name": "stdout",
          "text": [
            "Mammalia\n",
            "Aves\n"
          ]
        }
      ],
      "source": [
        "print(organisms_classes['Pan troglodytes'])\n",
        "print(organisms_classes['Gallus gallus'])"
      ]
    },
    {
      "cell_type": "markdown",
      "id": "e85f69bc",
      "metadata": {
        "id": "e85f69bc"
      },
      "source": [
        "### Changing and adding records\n",
        "We can change the dictionary by simply assigning a new value to a key."
      ]
    },
    {
      "cell_type": "code",
      "execution_count": null,
      "id": "f6b16fb4",
      "metadata": {
        "jupyter": {
          "outputs_hidden": false
        },
        "colab": {
          "base_uri": "https://localhost:8080/"
        },
        "id": "f6b16fb4",
        "outputId": "74b8bc3f-4b67-4482-c4c2-b7355c2824bd"
      },
      "outputs": [
        {
          "output_type": "stream",
          "name": "stdout",
          "text": [
            "Mammals\n"
          ]
        }
      ],
      "source": [
        "organisms_classes['Pan troglodytes'] = 'Mammals'\n",
        "print(organisms_classes['Pan troglodytes'])"
      ]
    },
    {
      "cell_type": "markdown",
      "id": "ef39fd4b",
      "metadata": {
        "id": "ef39fd4b"
      },
      "source": [
        "Similarly, we can use this syntax to add new records: "
      ]
    },
    {
      "cell_type": "code",
      "execution_count": null,
      "id": "046fa8d9",
      "metadata": {
        "jupyter": {
          "outputs_hidden": false
        },
        "colab": {
          "base_uri": "https://localhost:8080/"
        },
        "id": "046fa8d9",
        "outputId": "b7ab2801-9902-47fe-c5aa-22643865ed38"
      },
      "outputs": [
        {
          "output_type": "stream",
          "name": "stdout",
          "text": [
            "Actinopterygii\n"
          ]
        }
      ],
      "source": [
        "organisms_classes['Danio rerio'] = 'Actinopterygii'\n",
        "print(organisms_classes['Danio rerio'])"
      ]
    },
    {
      "cell_type": "markdown",
      "id": "20e44840",
      "metadata": {
        "id": "20e44840"
      },
      "source": [
        "__Note__: A dictionary may not contain multiple records with the same _key_, but it may contain many keys with the same _value_."
      ]
    },
    {
      "cell_type": "markdown",
      "id": "61ad42c4",
      "metadata": {
        "id": "61ad42c4"
      },
      "source": [
        "### Looping throgh dictionaries\n",
        "Remember the __for__ loop and how we used it to loop on lists?"
      ]
    },
    {
      "cell_type": "code",
      "execution_count": null,
      "id": "6feed9fe",
      "metadata": {
        "jupyter": {
          "outputs_hidden": false
        },
        "colab": {
          "base_uri": "https://localhost:8080/"
        },
        "id": "6feed9fe",
        "outputId": "96795079-04b9-415f-ff1f-6d37a01eec16"
      },
      "outputs": [
        {
          "output_type": "stream",
          "name": "stdout",
          "text": [
            "Pan troglodytes\n",
            "Gallus gallus\n",
            "Xenopus laevis\n",
            "Vipera palaestinae\n"
          ]
        }
      ],
      "source": [
        "for organism in organisms:\n",
        "    print(organism)"
      ]
    },
    {
      "cell_type": "markdown",
      "id": "4e809652",
      "metadata": {
        "id": "4e809652"
      },
      "source": [
        "Well, it also works on dictionaries! The for loop simply itterates over the _keys_ of the dictionary."
      ]
    },
    {
      "cell_type": "code",
      "execution_count": null,
      "id": "6dc46811",
      "metadata": {
        "jupyter": {
          "outputs_hidden": false
        },
        "colab": {
          "base_uri": "https://localhost:8080/"
        },
        "id": "6dc46811",
        "outputId": "55ca35f5-5ef3-4a59-aea8-34704ec37106"
      },
      "outputs": [
        {
          "output_type": "stream",
          "name": "stdout",
          "text": [
            "Pan troglodytes belongs to the Mammals class.\n",
            "Gallus gallus belongs to the Aves class.\n",
            "Xenopus laevis belongs to the Amphibia class.\n",
            "Vipera palaestinae belongs to the Reptilia class.\n",
            "Danio rerio belongs to the Actinopterygii class.\n"
          ]
        }
      ],
      "source": [
        "for key in organisms_classes:\n",
        "    print(key, 'belongs to the', organisms_classes[key], 'class.')"
      ]
    },
    {
      "cell_type": "markdown",
      "id": "c409b51e",
      "metadata": {
        "id": "c409b51e"
      },
      "source": [
        "Notice that dictionary items don't keep their original order."
      ]
    },
    {
      "cell_type": "markdown",
      "id": "8f5cad2a",
      "metadata": {
        "id": "8f5cad2a"
      },
      "source": [
        "We can even change values while looping:"
      ]
    },
    {
      "cell_type": "code",
      "execution_count": null,
      "id": "2e483d91",
      "metadata": {
        "jupyter": {
          "outputs_hidden": false
        },
        "colab": {
          "base_uri": "https://localhost:8080/"
        },
        "id": "2e483d91",
        "outputId": "0fbd5bd9-312b-4659-e883-dfb862b8d64d"
      },
      "outputs": [
        {
          "output_type": "stream",
          "name": "stdout",
          "text": [
            "{'Equus zebra': True, 'Hippopotamus amphibius': False, 'Giraffa camelopardalis': True, 'Panthera leo': True}\n"
          ]
        }
      ],
      "source": [
        "for animal in observations:\n",
        "    if observations[animal] > 50:\n",
        "        observations[animal] = True\n",
        "    else:\n",
        "        observations[animal] = False\n",
        "print(observations)"
      ]
    },
    {
      "cell_type": "markdown",
      "id": "95613adc",
      "metadata": {
        "id": "95613adc"
      },
      "source": [
        "### Is it in the dictionary?\n",
        "We can check if a __key__ is in the dictionary using an _if_ statement:"
      ]
    },
    {
      "cell_type": "code",
      "execution_count": null,
      "id": "a834dba2",
      "metadata": {
        "jupyter": {
          "outputs_hidden": false
        },
        "colab": {
          "base_uri": "https://localhost:8080/"
        },
        "id": "a834dba2",
        "outputId": "4a7efa4b-220e-41c1-ee85-fd68f535776b"
      },
      "outputs": [
        {
          "output_type": "execute_result",
          "data": {
            "text/plain": [
              "True"
            ]
          },
          "metadata": {},
          "execution_count": 44
        }
      ],
      "source": [
        "'Vipera palaestinae' in organisms_classes"
      ]
    },
    {
      "cell_type": "code",
      "execution_count": null,
      "id": "99954bf8",
      "metadata": {
        "jupyter": {
          "outputs_hidden": false
        },
        "colab": {
          "base_uri": "https://localhost:8080/"
        },
        "id": "99954bf8",
        "outputId": "0fcefedb-70e8-43db-b4b6-69074a1acc0e"
      },
      "outputs": [
        {
          "output_type": "execute_result",
          "data": {
            "text/plain": [
              "False"
            ]
          },
          "metadata": {},
          "execution_count": 45
        }
      ],
      "source": [
        "'Bos taurus' in organisms_classes"
      ]
    },
    {
      "cell_type": "code",
      "execution_count": null,
      "id": "b72e231a",
      "metadata": {
        "jupyter": {
          "outputs_hidden": false
        },
        "colab": {
          "base_uri": "https://localhost:8080/"
        },
        "id": "b72e231a",
        "outputId": "814f7c77-cb0a-4360-a590-65f4c28ddfae"
      },
      "outputs": [
        {
          "output_type": "stream",
          "name": "stdout",
          "text": [
            "Vipera palaestinae belongs to the Reptilia class.\n",
            "Bos taurus not found in dictionary.\n"
          ]
        }
      ],
      "source": [
        "new_organism = ['Vipera palaestinae', 'Bos taurus']\n",
        "for organism in new_organism:\n",
        "    if organism in organisms_classes:\n",
        "        print(organism, 'belongs to the', organisms_classes[organism], 'class.')\n",
        "    else:\n",
        "        print(organism, 'not found in dictionary.')"
      ]
    },
    {
      "cell_type": "markdown",
      "id": "60b97e17",
      "metadata": {
        "id": "60b97e17"
      },
      "source": [
        "## What's a function?\n",
        "### In mathematics:\n",
        "A function is like a _machine_, that (usually) takes a number, performs some mathematical process and returns another number.  \n",
        "For example, the function $f(x) = 2x + 6$  \n",
        "When the function takes 3 (that is, x = 3), it returns 2*3 + 6 = 12  \n",
        "And in 'pythonic':"
      ]
    },
    {
      "cell_type": "code",
      "execution_count": null,
      "id": "3b7a44e0",
      "metadata": {
        "jupyter": {
          "outputs_hidden": false
        },
        "colab": {
          "base_uri": "https://localhost:8080/"
        },
        "id": "3b7a44e0",
        "outputId": "e67f19e9-13fa-4ec8-ad29-cd9b476265a6"
      },
      "outputs": [
        {
          "output_type": "stream",
          "name": "stdout",
          "text": [
            "12\n"
          ]
        }
      ],
      "source": [
        "x = 3\n",
        "y = 2*x + 6\n",
        "print(y)"
      ]
    },
    {
      "cell_type": "markdown",
      "id": "00fc70d4",
      "metadata": {
        "id": "00fc70d4"
      },
      "source": [
        "### In computer science\n",
        "A function is a piece of code that performs some process. Like the mathematical concept, a function receives _inputs_ and returns _outputs_.  \n",
        "We _define_ functions with the __def__ command.  \n",
        "The general syntax is:  "
      ]
    },
    {
      "cell_type": "code",
      "execution_count": null,
      "id": "c943039b",
      "metadata": {
        "jupyter": {
          "outputs_hidden": false
        },
        "id": "c943039b"
      },
      "outputs": [],
      "source": [
        "def function_name(input1, input2, input3): # ...\n",
        "    # some processes\n",
        "    # .\n",
        "    # .\n",
        "    # .\n",
        "    return None # output"
      ]
    },
    {
      "cell_type": "code",
      "execution_count": null,
      "id": "ada554eb",
      "metadata": {
        "jupyter": {
          "outputs_hidden": false
        },
        "id": "ada554eb"
      },
      "outputs": [],
      "source": [
        "def linear1(x):\n",
        "    y = 2*x + 6\n",
        "    return y"
      ]
    },
    {
      "cell_type": "markdown",
      "id": "76e9aaed",
      "metadata": {
        "id": "76e9aaed"
      },
      "source": [
        "Once a function is defined, we can call it whenever we need it (i.e. multiple times), with different inputs."
      ]
    },
    {
      "cell_type": "code",
      "execution_count": null,
      "id": "59564fb7",
      "metadata": {
        "jupyter": {
          "outputs_hidden": false
        },
        "colab": {
          "base_uri": "https://localhost:8080/"
        },
        "id": "59564fb7",
        "outputId": "5847a4ce-f8ec-48b9-d321-1154771ffa98"
      },
      "outputs": [
        {
          "output_type": "stream",
          "name": "stdout",
          "text": [
            "12\n"
          ]
        }
      ],
      "source": [
        "result1 = linear1(3)\n",
        "print(result1)"
      ]
    },
    {
      "cell_type": "code",
      "execution_count": null,
      "id": "4518da0f",
      "metadata": {
        "jupyter": {
          "outputs_hidden": false
        },
        "colab": {
          "base_uri": "https://localhost:8080/"
        },
        "id": "4518da0f",
        "outputId": "a99b326d-e144-4e28-e03f-ffcb040cab5c"
      },
      "outputs": [
        {
          "output_type": "stream",
          "name": "stdout",
          "text": [
            "20\n"
          ]
        }
      ],
      "source": [
        "result2 = linear1(7)\n",
        "print(result2)"
      ]
    },
    {
      "cell_type": "markdown",
      "id": "7dfc12a1",
      "metadata": {
        "id": "7dfc12a1"
      },
      "source": [
        "A function may have more than one input, and they can also be other types of variables.  \n",
        "For example, the following function receives a __list__ of sequences and concatenates a given sequence __string__ to each sequence in the list. It then returns the new list."
      ]
    },
    {
      "cell_type": "code",
      "execution_count": null,
      "id": "9fa12010",
      "metadata": {
        "jupyter": {
          "outputs_hidden": false
        },
        "id": "9fa12010"
      },
      "outputs": [],
      "source": [
        "def concat_to_sequences(sequence_list, sequence_to_concat):\n",
        "    new_list = []\n",
        "    for seq in sequence_list:\n",
        "        new_list.append(seq + sequence_to_concat)\n",
        "    return new_list"
      ]
    },
    {
      "cell_type": "code",
      "execution_count": null,
      "id": "b8ccfc6f",
      "metadata": {
        "jupyter": {
          "outputs_hidden": false
        },
        "colab": {
          "base_uri": "https://localhost:8080/"
        },
        "id": "b8ccfc6f",
        "outputId": "a996a58d-2574-4a26-8321-ab0f2dab4799"
      },
      "outputs": [
        {
          "output_type": "stream",
          "name": "stdout",
          "text": [
            "['AGTTAGAGTTA', 'TTACCAGTG', 'GGCAACTTTAGG']\n",
            "['AGTTAGAGTTAGGG', 'TTACCAGTGGGG', 'GGCAACTTTAGGGGG']\n"
          ]
        }
      ],
      "source": [
        "my_sequences = ['AGTTAGAGTTA', 'TTACCAGTG', 'GGCAACTTTAGG']\n",
        "new_sequences = concat_to_sequences(my_sequences, 'GGG')\n",
        "print(my_sequences)\n",
        "print(new_sequences)"
      ]
    },
    {
      "cell_type": "markdown",
      "id": "40dd2664",
      "metadata": {
        "id": "40dd2664"
      },
      "source": [
        "The inputs of a function are also called __Arguments__ or formal variables."
      ]
    },
    {
      "cell_type": "markdown",
      "id": "97ba747c",
      "metadata": {
        "id": "97ba747c"
      },
      "source": [
        "### Why do we need functions?\n",
        "So why bother? Can't we just write code as we did so far and avoid all that functions mess?  \n",
        "Functions are good for (at least) three reasons:\n",
        "* Prevent code duplication - if we perform the same process multiple times, we don't have to write it again every time. We just call the function, thereby making the code shorter and more readable and avoid errors.\n",
        "* Modularity - Your code can easily be separated to small components, which can be reused and recombined.\n",
        "* Abstraction - separating a complex task into smaller and more simple tasks."
      ]
    },
    {
      "cell_type": "markdown",
      "id": "25d8ac2c",
      "metadata": {
        "id": "25d8ac2c"
      },
      "source": [
        "### A biological example"
      ]
    },
    {
      "cell_type": "markdown",
      "id": "0e278cdf",
      "metadata": {
        "id": "0e278cdf"
      },
      "source": [
        "Now, let's use some of the stuff we've learned to write a function that finds the reverse complement of a given sequence. Let's start by finding the complement."
      ]
    },
    {
      "cell_type": "code",
      "execution_count": null,
      "id": "1f37991f",
      "metadata": {
        "jupyter": {
          "outputs_hidden": false
        },
        "id": "1f37991f"
      },
      "outputs": [],
      "source": [
        "def complement(sequence):\n",
        "    transcript_dict = {'A': 'T', 'T': 'A', 'G': 'C', 'C': 'G'}\n",
        "    complement = ''\n",
        "    for base in sequence:\n",
        "        complement += transcript_dict[base]\n",
        "    return complement"
      ]
    },
    {
      "cell_type": "code",
      "execution_count": null,
      "id": "a836b03a",
      "metadata": {
        "jupyter": {
          "outputs_hidden": false
        },
        "colab": {
          "base_uri": "https://localhost:8080/"
        },
        "id": "a836b03a",
        "outputId": "90703071-35f2-4fb2-8198-80e702a15ea0"
      },
      "outputs": [
        {
          "output_type": "stream",
          "name": "stdout",
          "text": [
            "TGCGATAATCTCCCGCTCTTCGATCTCCT\n"
          ]
        }
      ],
      "source": [
        "my_dna = 'ACGCTATTAGAGGGCGAGAAGCTAGAGGA'\n",
        "my_complement = complement(my_dna)\n",
        "print(my_complement)"
      ]
    },
    {
      "cell_type": "markdown",
      "id": "3a1156db",
      "metadata": {
        "id": "3a1156db"
      },
      "source": [
        "Now, let's write another function, that reverses a given sequences."
      ]
    },
    {
      "cell_type": "code",
      "execution_count": null,
      "id": "26ab7f88",
      "metadata": {
        "jupyter": {
          "outputs_hidden": false
        },
        "id": "26ab7f88"
      },
      "outputs": [],
      "source": [
        "def reverse_sequence(sequence):\n",
        "    reversed_seq = ''\n",
        "    seq_as_list = list(sequence)\n",
        "    for base in reversed(seq_as_list):\n",
        "        reversed_seq += base\n",
        "    return reversed_seq"
      ]
    },
    {
      "cell_type": "code",
      "execution_count": null,
      "id": "5e68c663",
      "metadata": {
        "jupyter": {
          "outputs_hidden": false
        },
        "colab": {
          "base_uri": "https://localhost:8080/"
        },
        "id": "5e68c663",
        "outputId": "e336593e-bd97-4bb3-8b40-493545034218"
      },
      "outputs": [
        {
          "output_type": "stream",
          "name": "stdout",
          "text": [
            "TCCTCTAGCTTCTCGCCCTCTAATAGCGT\n"
          ]
        }
      ],
      "source": [
        "my_reverse_complement = reverse_sequence(my_complement)\n",
        "print(my_reverse_complement)"
      ]
    },
    {
      "cell_type": "markdown",
      "id": "4f704113",
      "metadata": {
        "id": "4f704113"
      },
      "source": [
        "We can call functions _from within_ a function, thereby wrapping the two functions we have in a third function."
      ]
    },
    {
      "cell_type": "code",
      "execution_count": null,
      "id": "caa8ab1c",
      "metadata": {
        "jupyter": {
          "outputs_hidden": false
        },
        "id": "caa8ab1c"
      },
      "outputs": [],
      "source": [
        "def reverse_complement(sequence):\n",
        "    complement_seq = complement(sequence)\n",
        "    reverse_complement = reverse_sequence(complement_seq)\n",
        "    return reverse_complement"
      ]
    },
    {
      "cell_type": "code",
      "execution_count": null,
      "id": "eb6aa538",
      "metadata": {
        "jupyter": {
          "outputs_hidden": false
        },
        "colab": {
          "base_uri": "https://localhost:8080/"
        },
        "id": "eb6aa538",
        "outputId": "8b955b42-b2f4-4c1f-d3f6-101d7c380a81"
      },
      "outputs": [
        {
          "output_type": "stream",
          "name": "stdout",
          "text": [
            "TCCTCTAGCTTCTCGCCCTCTAATAGCGT\n"
          ]
        }
      ],
      "source": [
        "print(reverse_complement(my_dna))"
      ]
    },
    {
      "cell_type": "markdown",
      "id": "a010f909",
      "metadata": {
        "id": "a010f909"
      },
      "source": [
        "Fuctions don't __have__ to return anything. Sometimes they just print stuff to the screen or to a file (next lesson). For example, we can take the function we created above and simply replace 'return' with 'print':"
      ]
    },
    {
      "cell_type": "code",
      "execution_count": null,
      "id": "f0cbe9c3",
      "metadata": {
        "jupyter": {
          "outputs_hidden": false
        },
        "id": "f0cbe9c3"
      },
      "outputs": [],
      "source": [
        "def print_reverse_complement(sequence):\n",
        "    complement_seq = complement(sequence)\n",
        "    reverse_complement = reverse_sequence(complement_seq)\n",
        "    print(reverse_complement)"
      ]
    },
    {
      "cell_type": "code",
      "execution_count": null,
      "id": "6983106c",
      "metadata": {
        "jupyter": {
          "outputs_hidden": false
        },
        "colab": {
          "base_uri": "https://localhost:8080/"
        },
        "id": "6983106c",
        "outputId": "9c99407c-6ce5-465d-8c02-46f462dc511c"
      },
      "outputs": [
        {
          "output_type": "stream",
          "name": "stdout",
          "text": [
            "TCCTCTAGCTTCTCGCCCTCTAATAGCGT\n"
          ]
        }
      ],
      "source": [
        "print_reverse_complement(my_dna)"
      ]
    },
    {
      "cell_type": "markdown",
      "id": "fc5f159a",
      "metadata": {
        "id": "fc5f159a"
      },
      "source": [
        "So, what's the difference between __return__ and __print__???  \n",
        "As the names suggest, while __print__ just prints the output of the function, __return__ retrns a value that can be stored within a variable. The difference is especially noticable when the output is not a string (e.g. list, dictionary etc). Even if the output is a string, __retun__ let's you further manipulate the output, while __print__ does not. "
      ]
    },
    {
      "cell_type": "code",
      "execution_count": null,
      "id": "b8103141",
      "metadata": {
        "jupyter": {
          "outputs_hidden": false
        },
        "colab": {
          "base_uri": "https://localhost:8080/"
        },
        "id": "b8103141",
        "outputId": "f3c1e9fc-a7ae-452f-f0b9-f73e8f3e2935"
      },
      "outputs": [
        {
          "output_type": "stream",
          "name": "stdout",
          "text": [
            "ATGTCCTCTAGCTTCTCGCCCTCTAATAGCGTTAA\n"
          ]
        }
      ],
      "source": [
        "my_reverse_complement = reverse_complement(my_dna)\n",
        "final_sequence = \"ATG\" + my_reverse_complement + \"TAA\"\n",
        "print(final_sequence)"
      ]
    },
    {
      "cell_type": "markdown",
      "id": "b6f41e5b",
      "metadata": {
        "id": "b6f41e5b"
      },
      "source": [
        "### Documenting your functions\n",
        "It is considered good practice to add documentation to functions you write - what do they do, what's their input and output etc. It becomes very useful once you have lots of code that you want to reuse. If you document your functions, you won't have to read the whole code when you need them again.  \n",
        "Documenting functions is done by adding a '_docstring_' right under the definition line. It is enclosed by \"\"\". For example:"
      ]
    },
    {
      "cell_type": "code",
      "execution_count": null,
      "id": "3763d989",
      "metadata": {
        "jupyter": {
          "outputs_hidden": false
        },
        "id": "3763d989"
      },
      "outputs": [],
      "source": [
        "def reverse_complement(sequence):\n",
        "    \"\"\"\n",
        "    Receives a string of DNA sequence and returns a string of it's reverse complement\n",
        "    \"\"\"\n",
        "    complement_seq = complement(sequence)\n",
        "    reverse_complement = reverse_sequence(complement_seq)\n",
        "    return reverse_complement"
      ]
    },
    {
      "cell_type": "markdown",
      "id": "c983b29c",
      "metadata": {
        "id": "c983b29c"
      },
      "source": [
        "You can easily access the documentation of a function using the `help()` command."
      ]
    },
    {
      "cell_type": "code",
      "execution_count": null,
      "id": "ce7a9766",
      "metadata": {
        "jupyter": {
          "outputs_hidden": false
        },
        "colab": {
          "base_uri": "https://localhost:8080/"
        },
        "id": "ce7a9766",
        "outputId": "73aedc35-dc82-4084-b736-9ceacca1df08"
      },
      "outputs": [
        {
          "output_type": "stream",
          "name": "stdout",
          "text": [
            "Help on function reverse_complement in module __main__:\n",
            "\n",
            "reverse_complement(sequence)\n",
            "    Receives a string of DNA sequence and returns a string of it's reverse complement\n",
            "\n"
          ]
        }
      ],
      "source": [
        "help(reverse_complement)"
      ]
    },
    {
      "cell_type": "markdown",
      "id": "bd99606a",
      "metadata": {
        "id": "bd99606a"
      },
      "source": [
        "### Built-in functions"
      ]
    },
    {
      "cell_type": "markdown",
      "id": "6ade5f12",
      "metadata": {
        "id": "6ade5f12"
      },
      "source": [
        "In fact, we've used functions before, without defining them first. For example: print(), type(), int(), len() etc. These functions are provided by the courtesy of Python developers. It is strongly adviced not to overwrite built-in functions with your own functions. That is, don't do:"
      ]
    },
    {
      "cell_type": "code",
      "execution_count": null,
      "id": "8f9916a4",
      "metadata": {
        "jupyter": {
          "outputs_hidden": false
        },
        "id": "8f9916a4"
      },
      "outputs": [],
      "source": [
        "# def len(lst):\n",
        "#    .\n",
        "#    .\n",
        "#    ."
      ]
    },
    {
      "cell_type": "markdown",
      "id": "6b897623",
      "metadata": {
        "id": "6b897623"
      },
      "source": [
        "just use another name...  \n",
        "We can acquire more functions written by others by __importing__ them into our code. We'll do that on the next lesson."
      ]
    },
    {
      "cell_type": "markdown",
      "id": "939a05d9",
      "metadata": {
        "id": "939a05d9"
      },
      "source": [
        "## Scopes"
      ]
    },
    {
      "cell_type": "markdown",
      "id": "fe28f9cd",
      "metadata": {
        "id": "fe28f9cd"
      },
      "source": [
        "Assume we have the following function, that calculates the hypotenuse (יתר) given two sides of a right triangle. (Remember Pythagoras' theorem?)"
      ]
    },
    {
      "cell_type": "code",
      "execution_count": null,
      "id": "14543e3b",
      "metadata": {
        "jupyter": {
          "outputs_hidden": false
        },
        "id": "14543e3b"
      },
      "outputs": [],
      "source": [
        "def pythagoras(a,b):\n",
        "    hypo_square = a**2 + b**2\n",
        "    hypo = hypo_square**0.5"
      ]
    },
    {
      "cell_type": "markdown",
      "id": "c73640cb",
      "metadata": {
        "id": "c73640cb"
      },
      "source": [
        "And now we want to run our function on the sides _a_ = 3 and _b_ = 5. So we do:"
      ]
    },
    {
      "cell_type": "code",
      "execution_count": null,
      "id": "97672f99",
      "metadata": {
        "jupyter": {
          "outputs_hidden": false
        },
        "id": "97672f99"
      },
      "outputs": [],
      "source": [
        "pythagoras(3,5)\n",
        "# print(hypo)"
      ]
    },
    {
      "cell_type": "code",
      "source": [
        "hypo"
      ],
      "metadata": {
        "id": "CK1gy-ITxjNi",
        "outputId": "cff9c22a-e3f2-4a4c-99c3-dff8e2f1d497",
        "colab": {
          "base_uri": "https://localhost:8080/",
          "height": 169
        }
      },
      "id": "CK1gy-ITxjNi",
      "execution_count": null,
      "outputs": [
        {
          "output_type": "error",
          "ename": "NameError",
          "evalue": "ignored",
          "traceback": [
            "\u001b[0;31m---------------------------------------------------------------------------\u001b[0m",
            "\u001b[0;31mNameError\u001b[0m                                 Traceback (most recent call last)",
            "\u001b[0;32m<ipython-input-52-3022bb06d02c>\u001b[0m in \u001b[0;36m<module>\u001b[0;34m\u001b[0m\n\u001b[0;32m----> 1\u001b[0;31m \u001b[0mhypo\u001b[0m\u001b[0;34m\u001b[0m\u001b[0;34m\u001b[0m\u001b[0m\n\u001b[0m",
            "\u001b[0;31mNameError\u001b[0m: name 'hypo' is not defined"
          ]
        }
      ]
    },
    {
      "cell_type": "markdown",
      "id": "84f61222",
      "metadata": {
        "id": "84f61222"
      },
      "source": [
        "__What happened to our result???__  \n",
        "The answer is _Scope_!  \n",
        "The variable _hypo_ 'lives' only as long as the function is running. In other words, it exists only withing the _scope_ of the function, and so do _a, b_ and _hypo_square_!  \n",
        "If we try to print hypo from _within_ the function:"
      ]
    },
    {
      "cell_type": "code",
      "execution_count": null,
      "id": "a3375227",
      "metadata": {
        "jupyter": {
          "outputs_hidden": false
        },
        "id": "a3375227",
        "colab": {
          "base_uri": "https://localhost:8080/"
        },
        "outputId": "b2594a26-58db-4f1f-bc76-26a44ced9dc3"
      },
      "outputs": [
        {
          "output_type": "stream",
          "name": "stdout",
          "text": [
            "5.830951894845301\n"
          ]
        }
      ],
      "source": [
        "def pythagoras(a,b):\n",
        "    hypo_square = a**2 + b**2\n",
        "    hypo = hypo_square**0.5\n",
        "    print(hypo)\n",
        "pythagoras(3,5)"
      ]
    },
    {
      "cell_type": "markdown",
      "id": "85d9445e",
      "metadata": {
        "id": "85d9445e"
      },
      "source": [
        "Or even better, we can use the __return__ statement to get the result. Like this:"
      ]
    },
    {
      "cell_type": "code",
      "execution_count": null,
      "id": "f02cf8e3",
      "metadata": {
        "jupyter": {
          "outputs_hidden": false
        },
        "id": "f02cf8e3",
        "colab": {
          "base_uri": "https://localhost:8080/"
        },
        "outputId": "9100365d-4a67-403b-83d3-0c4b64d9c51d"
      },
      "outputs": [
        {
          "output_type": "stream",
          "name": "stdout",
          "text": [
            "5.830951894845301\n"
          ]
        }
      ],
      "source": [
        "def pythagoras(a,b):\n",
        "    hypo_square = a**2 + b**2\n",
        "    hypo = hypo_square**0.5\n",
        "    return(hypo)\n",
        "\n",
        "result = pythagoras(3,5)\n",
        "print(result)"
      ]
    },
    {
      "cell_type": "markdown",
      "id": "237c7c88",
      "metadata": {
        "id": "237c7c88"
      },
      "source": [
        "## Congrats!\n",
        "\n",
        "The notebook is available at https://github.com/Naghipourfar/BIOENG102-python/"
      ]
    },
    {
      "cell_type": "code",
      "source": [],
      "metadata": {
        "id": "bRdrfZQWhfPW"
      },
      "id": "bRdrfZQWhfPW",
      "execution_count": null,
      "outputs": []
    }
  ],
  "metadata": {
    "kernelspec": {
      "display_name": "Python 3 (ipykernel)",
      "language": "python",
      "name": "python3"
    },
    "language_info": {
      "codemirror_mode": {
        "name": "ipython",
        "version": 3
      },
      "file_extension": ".py",
      "mimetype": "text/x-python",
      "name": "python",
      "nbconvert_exporter": "python",
      "pygments_lexer": "ipython3",
      "version": "3.7.4"
    },
    "colab": {
      "provenance": [],
      "collapsed_sections": [
        "e85f69bc",
        "61ad42c4",
        "95613adc",
        "00fc70d4",
        "97ba747c",
        "25d8ac2c",
        "b6f41e5b",
        "bd99606a"
      ]
    }
  },
  "nbformat": 4,
  "nbformat_minor": 5
}